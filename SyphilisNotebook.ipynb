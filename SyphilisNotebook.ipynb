{
 "cells": [
  {
   "cell_type": "markdown",
   "metadata": {},
   "source": [
    "# The entire thing can be run in the background by running the next cell, or it can be stepped through gradually by running each cell consecutively."
   ]
  },
  {
   "cell_type": "code",
   "execution_count": 1,
   "metadata": {},
   "outputs": [
    {
     "name": "stdout",
     "output_type": "stream",
     "text": [
      "Burning in population\n",
      "Equilibrium incidence = 11.425 per 100,000\n",
      "Beginning experiment\n",
      "Plotting effects of intervention\n",
      "Plotting screening interval that leads to eradication\n"
     ]
    },
    {
     "data": {
      "text/plain": [
       "<Figure size 720x360 with 0 Axes>"
      ]
     },
     "metadata": {},
     "output_type": "display_data"
    },
    {
     "data": {
      "text/plain": [
       "<Figure size 360x360 with 0 Axes>"
      ]
     },
     "metadata": {},
     "output_type": "display_data"
    }
   ],
   "source": [
    "%run SyphilisModel"
   ]
  },
  {
   "cell_type": "code",
   "execution_count": 3,
   "metadata": {},
   "outputs": [],
   "source": [
    "import numpy as np\n",
    "from scipy.integrate import solve_ivp\n",
    "import matplotlib.pyplot as plt"
   ]
  },
  {
   "cell_type": "markdown",
   "metadata": {},
   "source": [
    "### Parameters and variables"
   ]
  },
  {
   "cell_type": "code",
   "execution_count": 135,
   "metadata": {},
   "outputs": [],
   "source": [
    "#Initial population values. Each class begins with one case of primary syphilis\n",
    "E = 0 #exposed\n",
    "YP = 1 #primary syph\n",
    "YS = 0 #secondary syph\n",
    "L = 0 # late latent syph\n",
    "EL = 0 #early laten syph\n",
    "YRS = 0 #recurrent secondary syph\n",
    "Z = 0 #partial immunity (temporary)\n",
    "Yt = 0 #tertiary syph\n",
    "\n",
    "#initial compartment values for each class in a list\n",
    "init1 = [N1-1, E, 1, YS, L, EL, YRS, Z, Yt] #values for class 1\n",
    "init2 = [N2-1, E, 1, YS, L, EL, YRS, Z, Yt] #values for class 2\n",
    "init3 = [N3-1, E, 1, YS, L, EL, YRS, Z, Yt] #values for class 3\n",
    "init = init1 + init2 + init3 #make a single list containing all values\n",
    "\n",
    "#Activity class values\n",
    "Ntot = 100000 #total population size\n",
    "\n",
    "#Size of population for classes 1, 2, and 3\n",
    "nClasses = 3\n",
    "N1 = 0.72*Ntot     \n",
    "N2 = 0.15*Ntot         \n",
    "N3 = 0.13*Ntot \n",
    "\n",
    "#Number of partnerships for classes 1, 2, and 3\n",
    "C1 = 2 \n",
    "C2 = 8\n",
    "C3 = 30\n",
    "totC = (N1*C1)+(N2*C2)+(N3*C3) #total partnerships\n",
    "\n",
    "#make a list of lists of parameters for each sexual activity class\n",
    "class1 = [(N1*C1/totC), N1, C1]\n",
    "class2 = [(N2*C2/totC), N2, C2]\n",
    "class3 = [(N3*C3/totC), N3, C3]\n",
    "sexclass = [class1, class2, class3] \n",
    "\n",
    "             \n",
    "#parameters\n",
    "sig1 = 1/21 #Average incubation period, days, E -> YP\n",
    "sig2 = 1/46 #Average time, days, spent YP -> YS\n",
    "sig3 = 1/108 #Average time, days, spent YS -> L and YS -> EL and YRS -> L\n",
    "sig4 = 0.5 # Rate per year EL -> YRS \n",
    "sig5 = 0.033 #Rate per year L -> Yt\n",
    "gamma = 0.2 #Average rate of loss of immunity following treatment\n",
    "nu = 0.25 #Proportion of individuals in 2° stage who progress to early latent stage\t\n",
    "beta = 0.003042 #calibrated value\n",
    "m = 0.033 #Entry/exit rate\n",
    "tau = 0 #Average treatment rate"
   ]
  },
  {
   "cell_type": "code",
   "execution_count": 138,
   "metadata": {},
   "outputs": [],
   "source": [
    "def transmission(time, current_state, sexclass, beta, m, tau, sig1, sig2, sig3, sig4, sig5, gamma, nu):\n",
    "    '''\n",
    "    Compartmental model for all population values. Called by solve_ivp()\n",
    "    Input:\n",
    "    time: times at which to store the computer solutions\n",
    "    current_state: flat list containing current population values for all classes\n",
    "    sexclass: list of lists, with each list containing parameters for one behaviour class\n",
    "    constant model parameters: beta:nu\n",
    "    \n",
    "    Output:\n",
    "    nStep: flat list containing updated values of current_state \n",
    "\n",
    "    '''\n",
    "    step = []\n",
    "    slices = np.linspace(0, len(current_state), len(sexclass)+1) #get indices of current_state corresponding to each class. len(sexclass) is number of classes. +1 to give endpoint\n",
    "    lambdas = get_lambda(current_state, sexclass, beta) #Get lambda value for all activity classes\n",
    "    nStep = [] #Initialize vector to be returned with the next set of values\n",
    "    for i in range(len(sexclass)): # Do the step for each sex activity class\n",
    "        X, E, YP, YS, L, EL, YRS, Z, Yt = current_state[int(slices[i]):int(slices[i+1])] #Unpack the values of current_state for each class\n",
    "        lam = lambdas[i]\n",
    "        N = sexclass[i][1]\n",
    "        fX = m*N + tau*YP + tau*YS + gamma*Z - (lam+m)*X\n",
    "        fE =  lam*X-(sig1+m)*E\n",
    "        fYP = sig1*E -(m+tau+sig2)*YP\n",
    "        fYS = sig2*YP - (m+tau+sig3)*YS\n",
    "        fEL =  nu*sig3*YS - (m + tau + sig4)*EL\n",
    "        fYRS = sig4*EL - (m + tau + sig3)*YRS\n",
    "        fL = sig3*YRS + (1 - nu)*sig3*YS - (sig5 + m + tau)*L\n",
    "        fYt = sig5*L - (m + tau)*Yt\n",
    "        fZ = tau*L + tau*Yt + tau*YRS + tau*EL - (gamma + m)*Z\n",
    "        nStep += [fX, fE, fYP, fYS, fL, fEL, fYRS, fZ, fYt]\n",
    "    return nStep\n"
   ]
  },
  {
   "cell_type": "code",
   "execution_count": 11,
   "metadata": {
    "scrolled": true
   },
   "outputs": [],
   "source": [
    "def get_lambda(current_state, sexclass, beta):    \n",
    "    '''\n",
    "    Calculate the lambda for each sexual activity class. Called by transmission()\n",
    "    Input:\n",
    "    current state: list of current state for each behaviour class\n",
    "    sexclass: list of lists containing parameters for each class \n",
    "    beta: probability of transmission per partnership\n",
    "    \n",
    "    Output:\n",
    "    list of force of infection for each class\n",
    "    '''\n",
    "    propInf = 0\n",
    "    slices = np.linspace(0, len(current_state), len(sexclass)+1) #get indices of current_state corresponding to each class. len(sexclass) is number of classes. +1 to give endpoint\n",
    "    cList = []\n",
    "    for i in range(len(sexclass)): #for each class\n",
    "        prop, N, C = sexclass[i] #unpack class parameters\n",
    "        X, E, YP, YS, L, EL, YRS, Z, Yt = current_state[int(slices[i]):int(slices[i+1])] #unpack class state\n",
    "        yInf = (YP+YS+YRS)/N #get class contribution to lambda\n",
    "        classProp = prop*yInf\n",
    "        cList.append(C) #Store the partner value in a list so the entire list doesn't have to be unpacked twice\n",
    "        propInf += classProp  \n",
    "    lamList = []\n",
    "    for C in cList:\n",
    "        lam = C*beta*propInf\n",
    "        lamList.append(lam) \n",
    "    return lamList"
   ]
  },
  {
   "cell_type": "code",
   "execution_count": 232,
   "metadata": {},
   "outputs": [],
   "source": [
    "def get_incidence_vals(result, pos, nClasses):\n",
    "    '''\n",
    "    Calculate sum of any population value over all acivity classes to get values to be used in plot. Called after solve_ivp()\n",
    "    Input: \n",
    "    result: Flat list of all population values received from solve_ivp()\n",
    "    pos: position in list of desired value, e.g. if desired output is YP, pos will be 3\n",
    "    nClasses: number of sexual behaviour classes\n",
    "    \n",
    "    Output:\n",
    "    inf: list of incidence over time summed over the classes\n",
    "    final: summed incidence at the last timestep\n",
    "    \n",
    "    '''\n",
    "    pos = pos-1 # -1 to use as index for the list\n",
    "    inf = 0 #initialize list which will contained summed YP at each time step\n",
    "    infFin = 0 #initialize sum\n",
    "    slices = np.linspace(0, len(result.y), nClasses+1) #get indices of current_state corresponding to the first value of each class \n",
    "    for i in range(nClasses):\n",
    "        YP = result.y[int(pos+slices[i]),:] #get desired value from each class using pos to offset the first index value of each class\n",
    "        inf += YP #sum the lists\n",
    "        infFin += YP[len(YP)-1] #sum values from the final time step\n",
    "    return inf, infFin.item()\n"
   ]
  },
  {
   "cell_type": "markdown",
   "metadata": {},
   "source": [
    "# Burn in population to equilibrium "
   ]
  },
  {
   "cell_type": "code",
   "execution_count": 2,
   "metadata": {},
   "outputs": [],
   "source": [
    "time = np.linspace(0, 300000, 10) #creates list of 10 time points between simulation start (0) and simulation end (300000) to record the state \n",
    "\n",
    "result = solve_ivp(transmission, (0,300000),init, t_eval = time,args = (sexclass, beta, m, tau, sig1, sig2, sig3, sig4, sig5, gamma, nu)) # model function, duration, initial state, evaluation times, parameters)\n",
    "eqVals = result.y[:,9] #save equilibrium values: 10 states recorded, so 9 is the last one because there are 10 states recorded and we want the last one"
   ]
  },
  {
   "cell_type": "code",
   "execution_count": 171,
   "metadata": {},
   "outputs": [
    {
     "data": {
      "text/plain": [
       "Text(0.5, 1.0, 'Burn in: equilibrium incidence = 11.425')"
      ]
     },
     "execution_count": 171,
     "metadata": {},
     "output_type": "execute_result"
    },
    {
     "data": {
      "image/png": "[encoded data removed]",
      "text/plain": [
       "<Figure size 432x288 with 1 Axes>"
      ]
     },
     "metadata": {
      "needs_background": "light"
     },
     "output_type": "display_data"
    }
   ],
   "source": [
    "inf, final = get_incidence_vals(result, 3, nClasses)\n",
    "\n",
    "plt.plot(time, inf) \n",
    "plt.grid(linewidth=0.2)\n",
    "plt.xlabel('Steps')\n",
    "plt.ylabel('Incidence per 100,000')\n",
    "plt.title('Burn in: equilibrium incidence = %1.3f' %final)"
   ]
  },
  {
   "cell_type": "markdown",
   "metadata": {},
   "source": [
    "# Begin screening"
   ]
  },
  {
   "cell_type": "code",
   "execution_count": 4,
   "metadata": {},
   "outputs": [
    {
     "data": {
      "text/plain": [
       "Text(0.5, 1.0, 'Syphillis incidence with and without intervention')"
      ]
     },
     "execution_count": 4,
     "metadata": {},
     "output_type": "execute_result"
    },
    {
     "data": {
      "image/png": "[encoded data removed]",
      "text/plain": [
       "<Figure size 432x288 with 1 Axes>"
      ]
     },
     "metadata": {
      "needs_background": "light"
     },
     "output_type": "display_data"
    }
   ],
   "source": [
    "tau = 1.4117 #screening threshhold 0.099\n",
    "\n",
    "time = np.linspace(0, 10, 10)\n",
    "result = solve_ivp(transmission, (0,10), eqVals, t_eval = time,args = (sexclass, beta, m, tau, sig1, sig2, sig3, sig4, sig5, gamma, nu))\n",
    "inf, final = get_incidence_vals(result, 3, nClasses)\n",
    "\n",
    "tau = 0\n",
    "time = np.linspace(0, 10, 10)\n",
    "result = solve_ivp(transmission, (0,10), eqVals, t_eval = time,args = (sexclass, beta, m, tau, sig1, sig2, sig3, sig4, sig5, gamma, nu))\n",
    "infUn, finalUn = get_incidence_vals(result, 3, nClasses)\n",
    "\n",
    "plt.plot(time, inf, label='Intervention, incidence = %1.3f' %final)\n",
    "plt.plot(time, infUn, label='No intervention, incidence = %1.3f' %finalUn)\n",
    "plt.grid(linewidth=0.2)\n",
    "plt.legend()\n",
    "plt.ylabel('Incidence per 100,000')\n",
    "plt.xlabel('Time in years')\n",
    "plt.title('Syphillis incidence with and without intervention')"
   ]
  },
  {
   "cell_type": "code",
   "execution_count": 5,
   "metadata": {},
   "outputs": [],
   "source": [
    "#get relative rate\n",
    "relInc = 100/finalUn\n",
    "relInf = [i*relInc for i in inf] #transform incidence rate "
   ]
  },
  {
   "cell_type": "code",
   "execution_count": 6,
   "metadata": {},
   "outputs": [
    {
     "data": {
      "text/plain": [
       "Text(0.5, 1.0, 'Relative incidence of syphilis following intervention')"
      ]
     },
     "execution_count": 6,
     "metadata": {},
     "output_type": "execute_result"
    },
    {
     "data": {
      "image/png": "[encoded data removed]",
      "text/plain": [
       "<Figure size 432x288 with 1 Axes>"
      ]
     },
     "metadata": {
      "needs_background": "light"
     },
     "output_type": "display_data"
    }
   ],
   "source": [
    "#get relative rate\n",
    "relInc = 100/finalUn\n",
    "relInf = [i*relInc for i in inf] #transform incidence rate \n",
    "\n",
    "plt.plot(time, relInf)\n",
    "plt.grid(linewidth=0.2)\n",
    "plt.ylabel('% of pre-intervention incidence')\n",
    "plt.xlabel('Time in years')\n",
    "plt.title('Relative incidence of syphilis following intervention')"
   ]
  },
  {
   "cell_type": "markdown",
   "metadata": {},
   "source": [
    "# Calculate the screening interval that leads to eradication"
   ]
  },
  {
   "cell_type": "code",
   "execution_count": 241,
   "metadata": {},
   "outputs": [],
   "source": [
    "tVals = np.linspace(1, 12, 100) #get 100 values for tau between 1 and 12 \n",
    "time = np.linspace(0, 20, 2) \n",
    "\n",
    "endV = []\n",
    "for t in tVals:\n",
    "    tau = t\n",
    "    result = solve_ivp(SIR, (0,20), eqVals, t_eval = time,args = (sexclass, beta, m, tau, sig1, sig2, sig3, sig4, sig5, gamma, nu))\n",
    "    inf, final = get_incidence_vals(result, 3, nClasses)\n",
    "    endV.append(final)\n",
    "\n",
    "tInt = [12/i for i in tVals] #convert tau to screening intervals\n",
    "   "
   ]
  },
  {
   "cell_type": "code",
   "execution_count": 242,
   "metadata": {},
   "outputs": [
    {
     "data": {
      "text/plain": [
       "Text(0.5, 1.0, 'Effect of screening interval on syphillis eradication')"
      ]
     },
     "execution_count": 242,
     "metadata": {},
     "output_type": "execute_result"
    },
    {
     "data": {
      "image/png": "[encoded data removed]",
      "text/plain": [
       "<Figure size 432x288 with 1 Axes>"
      ]
     },
     "metadata": {
      "needs_background": "light"
     },
     "output_type": "display_data"
    }
   ],
   "source": [
    "plt.plot(tInt, endV)\n",
    "plt.grid(linewidth=0.2)\n",
    "plt.ylabel('Incidence at 20 years')\n",
    "plt.xlabel('Screening interval in months')\n",
    "plt.axhline(y = 0.1, color = 'r', linestyle = ':')\n",
    "plt.annotate('Eradication threshhold', xy=(1.15, 0.104), xytext=(1.15, 0.104))\n",
    "plt.title('Effect of screening interval on syphillis eradication')"
   ]
  },
  {
   "cell_type": "markdown",
   "metadata": {},
   "source": [
    "### tau = 1.4117 produces the threshhold value of 0.099"
   ]
  },
  {
   "cell_type": "code",
   "execution_count": null,
   "metadata": {},
   "outputs": [],
   "source": []
  }
 ],
 "metadata": {
  "kernelspec": {
   "display_name": "Python 3",
   "language": "python",
   "name": "python3"
  },
  "language_info": {
   "codemirror_mode": {
    "name": "ipython",
    "version": 3
   },
   "file_extension": ".py",
   "mimetype": "text/x-python",
   "name": "python",
   "nbconvert_exporter": "python",
   "pygments_lexer": "ipython3",
   "version": "3.7.3"
  }
 },
 "nbformat": 4,
 "nbformat_minor": 2
}

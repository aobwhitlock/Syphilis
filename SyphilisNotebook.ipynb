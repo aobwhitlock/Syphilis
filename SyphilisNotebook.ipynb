{
 "cells": [
  {
   "cell_type": "markdown",
   "metadata": {},
   "source": [
    "# The entire thing can be run in the background by running the next cell, or it can be stepped through gradually by running each cell consecutively."
   ]
  },
  {
   "cell_type": "code",
   "execution_count": 1,
   "metadata": {},
   "outputs": [
    {
     "name": "stdout",
     "output_type": "stream",
     "text": [
      "Beginning experiment\n",
      "Plotting effects of intervention\n",
      "Plotting screening interval that leads to eradication\n"
     ]
    },
    {
     "data": {
      "text/plain": [
       "<Figure size 720x360 with 0 Axes>"
      ]
     },
     "metadata": {},
     "output_type": "display_data"
    },
    {
     "data": {
      "text/plain": [
       "<Figure size 360x360 with 0 Axes>"
      ]
     },
     "metadata": {},
     "output_type": "display_data"
    }
   ],
   "source": [
    "%run SyphilisModel"
   ]
  },
  {
   "cell_type": "code",
   "execution_count": 3,
   "metadata": {},
   "outputs": [],
   "source": [
    "import numpy as np\n",
    "import matplotlib.pyplot as plt"
   ]
  },
  {
   "cell_type": "code",
   "execution_count": 23,
   "metadata": {},
   "outputs": [],
   "source": [
    "#Initial population values. Each class begins with one case of primary syphilis\n",
    "E = 0 #exposed\n",
    "YP = 1 #primary syph\n",
    "YS = 0 #secondary syph\n",
    "L = 0 # late latent syph\n",
    "EL = 0 #early laten syph\n",
    "YRS = 0 #recurrent secondary syph\n",
    "Z = 0 #partial immunity (temporary)\n",
    "Yt = 0 #tertiary syph\n",
    "\n",
    "#Activity class values\n",
    "Ntot = 100000 #total population size\n",
    "\n",
    "#Size of population for classes 1, 2, and 3\n",
    "nClasses = 3\n",
    "N1 = 0.72*Ntot     \n",
    "N2 = 0.15*Ntot         \n",
    "N3 = 0.13*Ntot \n",
    "\n",
    "#Number of partnerships for classes 1, 2, and 3\n",
    "C1 = 2 \n",
    "C2 = 8\n",
    "C3 = 30\n",
    "totC = (N1*C1)+(N2*C2)+(N3*C3) #total partnerships\n",
    "\n",
    "#make a list of lists of parameters for each sexual activity class\n",
    "class1 = [(N1*C1/totC), N1, C1]\n",
    "class2 = [(N2*C2/totC), N2, C2]\n",
    "class3 = [(N3*C3/totC), N3, C3]\n",
    "sexclass = [class1, class2, class3] \n",
    "\n",
    "#initial compartment values for each class in a list\n",
    "init1 = [N1-1, E, 1, YS, L, EL, YRS, Z, Yt] #values for class 1\n",
    "init2 = [N2-1, E, 1, YS, L, EL, YRS, Z, Yt] #values for class 2\n",
    "init3 = [N3-1, E, 1, YS, L, EL, YRS, Z, Yt] #values for class 3\n",
    "init = init1 + init2 + init3 #make a single list containing all values\n",
    "             \n",
    "#parameters\n",
    "sig1 = 1/21 #Average incubation period, days, E -> YP\n",
    "sig2 = 1/46 #Average time, days, spent YP -> YS\n",
    "sig3 = 1/108 #Average time, days, spent YS -> L and YS -> EL and YRS -> L\n",
    "sig4 = 0.5 # Rate per year EL -> YRS \n",
    "sig5 = 0.033 #Rate per year L -> Yt\n",
    "gamma = 0.2 #Average rate of loss of immunity following treatment\n",
    "nu = 0.25 #Proportion of individuals in 2° stage who progress to early latent stage\t\n",
    "beta = 0.003042 #calibrated value\n",
    "m = 0.033 #Entry/exit rate\n",
    "tau = 0 #Average treatment rate\n",
    "\n",
    "#state values at equilibrium\n",
    "eqVals = [7.19929266e+04, 2.89539121e+00, 2.51877895e+00, 1.29571756e+00,\n",
    "       1.45674674e-01, 5.62962964e-03, 6.65781880e-02, 0.00000000e+00,\n",
    "       1.45674624e-01, 1.49941072e+04, 2.41211510e+00, 2.09836401e+00,\n",
    "       1.07944649e+00, 1.21359806e-01, 4.69057341e-03, 5.54648672e-02,\n",
    "       0.00000000e+00, 1.21359751e-01, 1.29808691e+04, 7.83091396e+00,\n",
    "       6.81232338e+00, 3.50441511e+00, 3.93993556e-01, 1.52198669e-02,\n",
    "       1.80074481e-01, 0.00000000e+00, 3.93993552e-01]\n",
    "\n",
    "dt = 0.002 #step size"
   ]
  },
  {
   "cell_type": "code",
   "execution_count": 155,
   "metadata": {},
   "outputs": [],
   "source": [
    "def transmission(time, dt, current_state, sexclass, beta, m, tau, sig1, sig2, sig3, sig4, sig5, gamma, nu):\n",
    "    '''\n",
    "    Compartmental model using Euler\n",
    "    Input:\n",
    "    time: duration\n",
    "    dt: step size\n",
    "    current_state: flat list containing current population values for all classes\n",
    "    sexclass: list of lists, with each list containing parameters for one behaviour class\n",
    "    constant model parameters: beta:nu\n",
    "    \n",
    "    Output:\n",
    "    current_state: flat list containing updated values of current_state\n",
    "    inf: list of incidence at each time step \n",
    "\n",
    "    '''\n",
    "    steps = int(time/dt)\n",
    "    substeps = int(steps/time)\n",
    "    slices = np.linspace(0, len(current_state), len(sexclass)+1) #get indices of current_state corresponding to each class. len(sexclass) is number of classes. +1 to give endpoint\n",
    "    inf = []\n",
    "    for i in range(time):\n",
    "        inf.append(current_state[2]+current_state[11]+current_state[20])\n",
    "        for _ in range(substeps):\n",
    "            lambdas = get_lambda(current_state, sexclass, beta) #Get lambda value for all activity classes\n",
    "            nStep = [] #Initialize vector to be returned with the next set of values\n",
    "            for i in range(len(sexclass)): # Do the step for each sex activity class\n",
    "                X, E, YP, YS, L, EL, YRS, Z, Yt = current_state[int(slices[i]):int(slices[i+1])] #Unpack the values of current_state for each class\n",
    "                lam = lambdas[i]\n",
    "                N = sexclass[i][1]\n",
    "                fX = X + (m*N + tau*YP + tau*YS + gamma*Z - (lam+m)*X)*dt\n",
    "                fE =  E + (lam*X-(sig1+m)*E)*dt\n",
    "                fYP = YP + (sig1*E -(m+tau+sig2)*YP)*dt\n",
    "                fYS = YS + (sig2*YP - (m+tau+sig3)*YS)*dt\n",
    "                fEL =  EL + (nu*sig3*YS - (m + tau + sig4)*EL)*dt\n",
    "                fYRS = YRS + (sig4*EL - (m + tau + sig3)*YRS)*dt\n",
    "                fL = L + (sig3*YRS + (1 - nu)*sig3*YS - (sig5 + m + tau)*L)*dt\n",
    "                fYt = Yt + (sig5*L - (m + tau)*Yt)*dt\n",
    "                fZ = Z + (tau*L + tau*Yt + tau*YRS + tau*EL - (gamma + m)*Z)*dt\n",
    "                nStep += [fX, fE, fYP, fYS, fL, fEL, fYRS, fZ, fYt]\n",
    "            current_state = nStep\n",
    "    return current_state, inf\n",
    "\n",
    "\n"
   ]
  },
  {
   "cell_type": "code",
   "execution_count": 12,
   "metadata": {
    "scrolled": true
   },
   "outputs": [],
   "source": [
    "def get_lambda(current_state, sexclass, beta):    \n",
    "    '''\n",
    "    Calculate the lambda for each sexual activity class. Called by transmission()\n",
    "    Input:\n",
    "    current state: list of current state for each behaviour class\n",
    "    sexclass: list of lists containing parameters for each class \n",
    "    beta: probability of transmission per partnership\n",
    "    \n",
    "    Output:\n",
    "    list of force of infection for each class\n",
    "    '''\n",
    "    propInf = 0\n",
    "    slices = np.linspace(0, len(current_state), len(sexclass)+1) #get indices of current_state corresponding to each class. len(sexclass) is number of classes. +1 to give endpoint\n",
    "    cList = []\n",
    "    for i in range(len(sexclass)): #for each class\n",
    "        prop, N, C = sexclass[i] #unpack class parameters\n",
    "        X, E, YP, YS, L, EL, YRS, Z, Yt = current_state[int(slices[i]):int(slices[i+1])] #unpack class state\n",
    "        yInf = (YP+YS+YRS)/N #get class contribution to lambda\n",
    "        classProp = prop*yInf\n",
    "        cList.append(C) #Store the partner value in a list so the entire list doesn't have to be unpacked twice\n",
    "        propInf += classProp  \n",
    "    lamList = []\n",
    "    for C in cList:\n",
    "        lam = C*beta*propInf\n",
    "        lamList.append(lam) \n",
    "    return lamList"
   ]
  },
  {
   "cell_type": "markdown",
   "metadata": {},
   "source": [
    "# Find value of tau that leads to eradication in 20 years"
   ]
  },
  {
   "cell_type": "code",
   "execution_count": 128,
   "metadata": {},
   "outputs": [],
   "source": [
    "time = 20\n",
    "\n",
    "taus = np.linspace(1,12,100) #get 250 values for tau between 1 and 12\n",
    "inf20 = [] #make an empty list which will have the value at time 20 for each tau\n",
    "\n",
    "#test each value\n",
    "for tau in taus:\n",
    "    endstate, inf = transmission(time, dt, current_state, sexclass, beta, m, tau, sig1, sig2, sig3, sig4, sig5, gamma, nu)\n",
    "    inf20.append(inf[-1])"
   ]
  },
  {
   "cell_type": "code",
   "execution_count": 134,
   "metadata": {},
   "outputs": [
    {
     "data": {
      "image/png": "[encoded data removed]",
      "text/plain": [
       "<Figure size 432x288 with 1 Axes>"
      ]
     },
     "metadata": {
      "needs_background": "light"
     },
     "output_type": "display_data"
    }
   ],
   "source": [
    "tInt = [12/i for i in taus] #convert tau to screening intervals\n",
    "plt.plot(tInt, inf20)\n",
    "plt.grid(linewidth=0.2)\n",
    "plt.ylabel('Incidence at 20 years')\n",
    "plt.xlabel('Screening interval in months')\n",
    "plt.axhline(y = 0.1, color = 'r', linestyle = ':')\n",
    "plt.annotate('Eradication threshhold', xy=(1.15, 0.104), xytext=(1.15, 0.104))\n",
    "plt.title('Effect of screening interval on syphilis eradication')\n"
   ]
  },
  {
   "cell_type": "markdown",
   "metadata": {},
   "source": [
    "# The impact of screening after 10 years"
   ]
  },
  {
   "cell_type": "code",
   "execution_count": 171,
   "metadata": {},
   "outputs": [
    {
     "data": {
      "text/plain": [
       "Text(0.5, 1.0, 'Syphillis incidence with and without intervention')"
      ]
     },
     "execution_count": 171,
     "metadata": {},
     "output_type": "execute_result"
    },
    {
     "data": {
      "image/png": "[encoded data removed]",
      "text/plain": [
       "<Figure size 432x288 with 1 Axes>"
      ]
     },
     "metadata": {
      "needs_background": "light"
     },
     "output_type": "display_data"
    }
   ],
   "source": [
    "time = 10\n",
    "Years = list(range(time)) #Make a list of years for X axis\n",
    "\n",
    "#Unscreened population\n",
    "tau = 0\n",
    "resultUn, infUn = transmission(time, dt, eqVals, sexclass, beta, m, tau, sig1, sig2, sig3, sig4, sig5, gamma, nu)\n",
    "\n",
    "#Screened population\n",
    "tau = 1.51\n",
    "resultTr, infTr = transmission(time, dt, eqVals, sexclass, beta, m, tau, sig1, sig2, sig3, sig4, sig5, gamma, nu)\n",
    "\n",
    "plt.plot(Years, infTr, label='Intervention, incidence = %1.3f' %infTr[-1])\n",
    "plt.plot(Years, infUn, label='No intervention, incidence = %1.3f' %infUn[-1])\n",
    "plt.grid(linewidth=0.2)\n",
    "plt.legend()\n",
    "plt.ylabel('Incidence per 100,000')\n",
    "plt.xlabel('Time in years')\n",
    "plt.title('Syphilis incidence with and without intervention')"
   ]
  },
  {
   "cell_type": "code",
   "execution_count": 172,
   "metadata": {},
   "outputs": [
    {
     "data": {
      "text/plain": [
       "Text(0.5, 1.0, 'Relative incidence of syphilis following intervention = 1.912')"
      ]
     },
     "execution_count": 172,
     "metadata": {},
     "output_type": "execute_result"
    },
    {
     "data": {
      "image/png": "[encoded data removed]",
      "text/plain": [
       "<Figure size 432x288 with 1 Axes>"
      ]
     },
     "metadata": {
      "needs_background": "light"
     },
     "output_type": "display_data"
    }
   ],
   "source": [
    "#get relative rate\n",
    "relInc = 100/infUn[-1] #get incidence of untreated population\n",
    "relInf = [i*relInc for i in infTr] #transform incidence rate \n",
    "\n",
    "plt.plot(Years, relInf)\n",
    "plt.grid(linewidth=0.2)\n",
    "plt.ylabel('% of pre-intervention incidence')\n",
    "plt.xlabel('Time in years')\n",
    "plt.title('Relative incidence of syphilis following intervention = %1.3f' %relInf[-1])"
   ]
  }
 ],
 "metadata": {
  "kernelspec": {
   "display_name": "Python 3",
   "language": "python",
   "name": "python3"
  },
  "language_info": {
   "codemirror_mode": {
    "name": "ipython",
    "version": 3
   },
   "file_extension": ".py",
   "mimetype": "text/x-python",
   "name": "python",
   "nbconvert_exporter": "python",
   "pygments_lexer": "ipython3",
   "version": "3.7.3"
  }
 },
 "nbformat": 4,
 "nbformat_minor": 2
}
